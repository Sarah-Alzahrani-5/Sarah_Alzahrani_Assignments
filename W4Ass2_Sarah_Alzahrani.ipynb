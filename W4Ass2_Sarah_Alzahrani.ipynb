{
 "cells": [
  {
   "cell_type": "code",
   "execution_count": 1,
   "id": "7eaa7d32-a726-4247-85c6-3aa221db02ad",
   "metadata": {},
   "outputs": [],
   "source": [
    "import pandas"
   ]
  },
  {
   "cell_type": "code",
   "execution_count": 2,
   "id": "03e8b8c7-d65e-4b5c-a9d0-5ad5487c9008",
   "metadata": {},
   "outputs": [],
   "source": [
    "#model parameters\n",
    "\n",
    "growth_factor = 1.18\n",
    "EBITDA_margin = 0.45\n",
    "tax = 0.21\n",
    "capital_exp = 0.03\n",
    "working_capital_increase = 0.06\n",
    "EBITDA_exit_multiple = 32.70\n",
    "discount_factor = 0.94 "
   ]
  },
  {
   "cell_type": "code",
   "execution_count": 3,
   "id": "144e459e-dc32-4d0b-b17a-3136b769a1e1",
   "metadata": {},
   "outputs": [
    {
     "data": {
      "text/plain": [
       "DatetimeIndex(['2022-12-31', '2023-12-31', '2024-12-31', '2025-12-31',\n",
       "               '2026-12-31', '2027-12-31', '2028-12-31', '2029-12-31',\n",
       "               '2030-12-31', '2031-12-31'],\n",
       "              dtype='datetime64[ns]', freq='A-DEC')"
      ]
     },
     "execution_count": 3,
     "metadata": {},
     "output_type": "execute_result"
    }
   ],
   "source": [
    "dates = pandas.date_range(start='2022',end='2032',freq='Y')\n",
    "dates"
   ]
  },
  {
   "cell_type": "code",
   "execution_count": 4,
   "id": "b4de8915-887e-41c1-8d4d-02197263d3b5",
   "metadata": {},
   "outputs": [],
   "source": [
    "#Creat empty DataFrame using Index\n",
    "model_df = pandas.DataFrame(index=dates)\n",
    "terminal_value_df = pandas.DataFrame()"
   ]
  },
  {
   "cell_type": "code",
   "execution_count": 5,
   "id": "1535bdc3-8d5b-4f13-a72a-71ff21767dc8",
   "metadata": {},
   "outputs": [],
   "source": [
    "#Start filling the model\n",
    "#Rev_Growth\n",
    "start_rev = 200\n",
    "rev_projection = [start_rev*growth_factor]\n",
    "\n",
    "for i in range(1,len(dates)):\n",
    "    rev_projection.append(rev_projection[i-1]*growth_factor) #for each date, multiply rev_projection by the previous revenue and its growth factor  \n",
    "    \n",
    "model_df['Revenue'] = rev_projection\n"
   ]
  },
  {
   "cell_type": "code",
   "execution_count": 6,
   "id": "8992538c-6dcb-4881-8183-d81b17521a18",
   "metadata": {},
   "outputs": [],
   "source": [
    "model_df['EBITDA'] = model_df['Revenue'] * EBITDA_margin"
   ]
  },
  {
   "cell_type": "code",
   "execution_count": 7,
   "id": "37cc626c-5730-4910-83fc-fe5f3d9f92aa",
   "metadata": {},
   "outputs": [],
   "source": [
    "model_df['Taxes']= model_df['EBITDA'] * -(tax)"
   ]
  },
  {
   "cell_type": "code",
   "execution_count": 8,
   "id": "d300579c-480b-4995-853d-8392d1e13315",
   "metadata": {},
   "outputs": [],
   "source": [
    "model_df['Capital Expenditures'] = model_df['Revenue'] * -capital_exp"
   ]
  },
  {
   "cell_type": "code",
   "execution_count": 9,
   "id": "3ae5ada7-5874-4809-8c8c-b7b6a1b161df",
   "metadata": {},
   "outputs": [],
   "source": [
    "model_df['Working Capital'] = model_df['Revenue'] * -working_capital_increase"
   ]
  },
  {
   "cell_type": "code",
   "execution_count": 10,
   "id": "cd88ac6e-510e-482c-b969-0d674aae9196",
   "metadata": {},
   "outputs": [
    {
     "data": {
      "text/html": [
       "<div>\n",
       "<style scoped>\n",
       "    .dataframe tbody tr th:only-of-type {\n",
       "        vertical-align: middle;\n",
       "    }\n",
       "\n",
       "    .dataframe tbody tr th {\n",
       "        vertical-align: top;\n",
       "    }\n",
       "\n",
       "    .dataframe thead th {\n",
       "        text-align: right;\n",
       "    }\n",
       "</style>\n",
       "<table border=\"1\" class=\"dataframe\">\n",
       "  <thead>\n",
       "    <tr style=\"text-align: right;\">\n",
       "      <th></th>\n",
       "      <th>2022-12-31</th>\n",
       "      <th>2023-12-31</th>\n",
       "      <th>2024-12-31</th>\n",
       "      <th>2025-12-31</th>\n",
       "      <th>2026-12-31</th>\n",
       "      <th>2027-12-31</th>\n",
       "      <th>2028-12-31</th>\n",
       "      <th>2029-12-31</th>\n",
       "      <th>2030-12-31</th>\n",
       "      <th>2031-12-31</th>\n",
       "    </tr>\n",
       "  </thead>\n",
       "  <tbody>\n",
       "    <tr>\n",
       "      <th>Revenue</th>\n",
       "      <td>236.00</td>\n",
       "      <td>278.48</td>\n",
       "      <td>328.61</td>\n",
       "      <td>387.76</td>\n",
       "      <td>457.55</td>\n",
       "      <td>539.91</td>\n",
       "      <td>637.09</td>\n",
       "      <td>751.77</td>\n",
       "      <td>887.09</td>\n",
       "      <td>1046.77</td>\n",
       "    </tr>\n",
       "    <tr>\n",
       "      <th>EBITDA</th>\n",
       "      <td>106.20</td>\n",
       "      <td>125.32</td>\n",
       "      <td>147.87</td>\n",
       "      <td>174.49</td>\n",
       "      <td>205.90</td>\n",
       "      <td>242.96</td>\n",
       "      <td>286.69</td>\n",
       "      <td>338.30</td>\n",
       "      <td>399.19</td>\n",
       "      <td>471.05</td>\n",
       "    </tr>\n",
       "    <tr>\n",
       "      <th>Taxes</th>\n",
       "      <td>-22.30</td>\n",
       "      <td>-26.32</td>\n",
       "      <td>-31.05</td>\n",
       "      <td>-36.64</td>\n",
       "      <td>-43.24</td>\n",
       "      <td>-51.02</td>\n",
       "      <td>-60.21</td>\n",
       "      <td>-71.04</td>\n",
       "      <td>-83.83</td>\n",
       "      <td>-98.92</td>\n",
       "    </tr>\n",
       "    <tr>\n",
       "      <th>Capital Expenditures</th>\n",
       "      <td>-7.08</td>\n",
       "      <td>-8.35</td>\n",
       "      <td>-9.86</td>\n",
       "      <td>-11.63</td>\n",
       "      <td>-13.73</td>\n",
       "      <td>-16.20</td>\n",
       "      <td>-19.11</td>\n",
       "      <td>-22.55</td>\n",
       "      <td>-26.61</td>\n",
       "      <td>-31.40</td>\n",
       "    </tr>\n",
       "    <tr>\n",
       "      <th>Working Capital</th>\n",
       "      <td>-14.16</td>\n",
       "      <td>-16.71</td>\n",
       "      <td>-19.72</td>\n",
       "      <td>-23.27</td>\n",
       "      <td>-27.45</td>\n",
       "      <td>-32.39</td>\n",
       "      <td>-38.23</td>\n",
       "      <td>-45.11</td>\n",
       "      <td>-53.23</td>\n",
       "      <td>-62.81</td>\n",
       "    </tr>\n",
       "    <tr>\n",
       "      <th>Cash_flow</th>\n",
       "      <td>62.66</td>\n",
       "      <td>73.94</td>\n",
       "      <td>87.24</td>\n",
       "      <td>102.95</td>\n",
       "      <td>121.48</td>\n",
       "      <td>143.35</td>\n",
       "      <td>169.15</td>\n",
       "      <td>199.60</td>\n",
       "      <td>235.52</td>\n",
       "      <td>277.92</td>\n",
       "    </tr>\n",
       "  </tbody>\n",
       "</table>\n",
       "</div>"
      ],
      "text/plain": [
       "                      2022-12-31  2023-12-31  2024-12-31  2025-12-31  \\\n",
       "Revenue                   236.00      278.48      328.61      387.76   \n",
       "EBITDA                    106.20      125.32      147.87      174.49   \n",
       "Taxes                     -22.30      -26.32      -31.05      -36.64   \n",
       "Capital Expenditures       -7.08       -8.35       -9.86      -11.63   \n",
       "Working Capital           -14.16      -16.71      -19.72      -23.27   \n",
       "Cash_flow                  62.66       73.94       87.24      102.95   \n",
       "\n",
       "                      2026-12-31  2027-12-31  2028-12-31  2029-12-31  \\\n",
       "Revenue                   457.55      539.91      637.09      751.77   \n",
       "EBITDA                    205.90      242.96      286.69      338.30   \n",
       "Taxes                     -43.24      -51.02      -60.21      -71.04   \n",
       "Capital Expenditures      -13.73      -16.20      -19.11      -22.55   \n",
       "Working Capital           -27.45      -32.39      -38.23      -45.11   \n",
       "Cash_flow                 121.48      143.35      169.15      199.60   \n",
       "\n",
       "                      2030-12-31  2031-12-31  \n",
       "Revenue                   887.09     1046.77  \n",
       "EBITDA                    399.19      471.05  \n",
       "Taxes                     -83.83      -98.92  \n",
       "Capital Expenditures      -26.61      -31.40  \n",
       "Working Capital           -53.23      -62.81  \n",
       "Cash_flow                 235.52      277.92  "
      ]
     },
     "execution_count": 10,
     "metadata": {},
     "output_type": "execute_result"
    }
   ],
   "source": [
    "model_df['Cash_flow'] = model_df.drop(columns=['Revenue']).sum(axis=1)\n",
    "model_df.transpose().round(2)"
   ]
  },
  {
   "cell_type": "code",
   "execution_count": 11,
   "id": "5d9ebdf5-7ff9-402d-be8a-2a28a9f568b8",
   "metadata": {},
   "outputs": [
    {
     "data": {
      "text/html": [
       "<div>\n",
       "<style scoped>\n",
       "    .dataframe tbody tr th:only-of-type {\n",
       "        vertical-align: middle;\n",
       "    }\n",
       "\n",
       "    .dataframe tbody tr th {\n",
       "        vertical-align: top;\n",
       "    }\n",
       "\n",
       "    .dataframe thead th {\n",
       "        text-align: right;\n",
       "    }\n",
       "</style>\n",
       "<table border=\"1\" class=\"dataframe\">\n",
       "  <thead>\n",
       "    <tr style=\"text-align: right;\">\n",
       "      <th></th>\n",
       "      <th>present_value_FCF</th>\n",
       "    </tr>\n",
       "  </thead>\n",
       "  <tbody>\n",
       "    <tr>\n",
       "      <th>0.940000</th>\n",
       "      <td>58.898520</td>\n",
       "    </tr>\n",
       "    <tr>\n",
       "      <th>0.883600</th>\n",
       "      <td>65.330238</td>\n",
       "    </tr>\n",
       "    <tr>\n",
       "      <th>0.830584</th>\n",
       "      <td>72.464300</td>\n",
       "    </tr>\n",
       "    <tr>\n",
       "      <th>0.780749</th>\n",
       "      <td>80.377402</td>\n",
       "    </tr>\n",
       "    <tr>\n",
       "      <th>0.733904</th>\n",
       "      <td>89.154614</td>\n",
       "    </tr>\n",
       "    <tr>\n",
       "      <th>0.689870</th>\n",
       "      <td>98.890298</td>\n",
       "    </tr>\n",
       "    <tr>\n",
       "      <th>0.648478</th>\n",
       "      <td>109.689119</td>\n",
       "    </tr>\n",
       "    <tr>\n",
       "      <th>0.609569</th>\n",
       "      <td>121.667171</td>\n",
       "    </tr>\n",
       "    <tr>\n",
       "      <th>0.572995</th>\n",
       "      <td>134.953226</td>\n",
       "    </tr>\n",
       "    <tr>\n",
       "      <th>0.538615</th>\n",
       "      <td>149.690118</td>\n",
       "    </tr>\n",
       "  </tbody>\n",
       "</table>\n",
       "</div>"
      ],
      "text/plain": [
       "          present_value_FCF\n",
       "0.940000          58.898520\n",
       "0.883600          65.330238\n",
       "0.830584          72.464300\n",
       "0.780749          80.377402\n",
       "0.733904          89.154614\n",
       "0.689870          98.890298\n",
       "0.648478         109.689119\n",
       "0.609569         121.667171\n",
       "0.572995         134.953226\n",
       "0.538615         149.690118"
      ]
     },
     "execution_count": 11,
     "metadata": {},
     "output_type": "execute_result"
    }
   ],
   "source": [
    "discount_factors = [discount_factor**i for i in range(1,len(dates)+1)]\n",
    "discount_table = pandas.DataFrame(index=discount_factors)\n",
    "discount_table['present_value_FCF'] = discount_factors*model_df['Cash_flow'].values\n",
    "discount_table"
   ]
  },
  {
   "cell_type": "code",
   "execution_count": 12,
   "id": "c019addf-66a8-496a-b8b9-78d9d89e3926",
   "metadata": {},
   "outputs": [],
   "source": [
    "present_value_of_projected_fcf = discount_table['present_value_FCF'].sum()"
   ]
  },
  {
   "cell_type": "code",
   "execution_count": 13,
   "id": "f7d137ef-1435-40e6-9e4e-b84e5c09f771",
   "metadata": {},
   "outputs": [
    {
     "data": {
      "text/plain": [
       "981.1150060117919"
      ]
     },
     "execution_count": 13,
     "metadata": {},
     "output_type": "execute_result"
    }
   ],
   "source": [
    "present_value_of_projected_fcf"
   ]
  },
  {
   "cell_type": "code",
   "execution_count": 14,
   "id": "e8c74832-9bf4-4b24-b312-952c9f374c7f",
   "metadata": {},
   "outputs": [],
   "source": [
    "terminal_frame = pandas.DataFrame(index=['2032'])\n",
    "terminal_frame['Revenue'] = model_df['Revenue'].iloc[-1]*growth_factor\n",
    "terminal_frame['EBITDA'] = terminal_frame['Revenue']*EBITDA_margin"
   ]
  },
  {
   "cell_type": "code",
   "execution_count": 15,
   "id": "384120a2-0a74-49eb-bf6e-9eeca20c0d1d",
   "metadata": {},
   "outputs": [
    {
     "data": {
      "text/html": [
       "<div>\n",
       "<style scoped>\n",
       "    .dataframe tbody tr th:only-of-type {\n",
       "        vertical-align: middle;\n",
       "    }\n",
       "\n",
       "    .dataframe tbody tr th {\n",
       "        vertical-align: top;\n",
       "    }\n",
       "\n",
       "    .dataframe thead th {\n",
       "        text-align: right;\n",
       "    }\n",
       "</style>\n",
       "<table border=\"1\" class=\"dataframe\">\n",
       "  <thead>\n",
       "    <tr style=\"text-align: right;\">\n",
       "      <th></th>\n",
       "      <th>Revenue</th>\n",
       "      <th>EBITDA</th>\n",
       "      <th>Terminal_valuation</th>\n",
       "    </tr>\n",
       "  </thead>\n",
       "  <tbody>\n",
       "    <tr>\n",
       "      <th>2032</th>\n",
       "      <td>1235.0</td>\n",
       "      <td>556.0</td>\n",
       "      <td>18176.0</td>\n",
       "    </tr>\n",
       "  </tbody>\n",
       "</table>\n",
       "</div>"
      ],
      "text/plain": [
       "      Revenue  EBITDA  Terminal_valuation\n",
       "2032   1235.0   556.0             18176.0"
      ]
     },
     "execution_count": 15,
     "metadata": {},
     "output_type": "execute_result"
    }
   ],
   "source": [
    "terminal_frame['Terminal_valuation']=terminal_frame['EBITDA']*EBITDA_exit_multiple\n",
    "terminal_frame.round(0)"
   ]
  },
  {
   "cell_type": "code",
   "execution_count": null,
   "id": "18b69fe8-25e2-42bd-84f0-bdf201f51a5a",
   "metadata": {},
   "outputs": [],
   "source": []
  }
 ],
 "metadata": {
  "kernelspec": {
   "display_name": "Python 3",
   "language": "python",
   "name": "python3"
  },
  "language_info": {
   "codemirror_mode": {
    "name": "ipython",
    "version": 3
   },
   "file_extension": ".py",
   "mimetype": "text/x-python",
   "name": "python",
   "nbconvert_exporter": "python",
   "pygments_lexer": "ipython3",
   "version": "3.8.8"
  }
 },
 "nbformat": 4,
 "nbformat_minor": 5
}
